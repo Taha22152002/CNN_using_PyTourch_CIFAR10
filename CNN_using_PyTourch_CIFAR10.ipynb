{
  "nbformat": 4,
  "nbformat_minor": 0,
  "metadata": {
    "colab": {
      "provenance": []
    },
    "kernelspec": {
      "name": "python3",
      "display_name": "Python 3"
    },
    "language_info": {
      "name": "python"
    }
  },
  "cells": [
    {
      "cell_type": "code",
      "execution_count": 1,
      "metadata": {
        "id": "VvWbBEATIjHq"
      },
      "outputs": [],
      "source": [
        "# We'll need PyTorch, torchvision for dataset utilities, and matplotlib for visualization.\n",
        "\n",
        "import torch\n",
        "import torch.nn as nn\n",
        "import torch.optim as optim\n",
        "import torch.nn.functional as F\n",
        "import torchvision\n",
        "import torchvision.transforms as transforms\n",
        "import matplotlib.pyplot as plt"
      ]
    },
    {
      "cell_type": "code",
      "source": [
        "# Load the CIFAR-10 dataset.\n",
        "# It contains 60,000 32x32 color images in 10 classes, with 6,000 images per class.\n",
        "\n",
        "transform = transforms.Compose([ transforms.ToTensor(),transforms.Normalize((0.5, 0.5, 0.5), (0.5, 0.5, 0.5))]) #Convert image to PyTorch tensor. Normalize image to [-1, 1]\n",
        "\n",
        "\n",
        "# Download and load the training dataset\n",
        "trainset = torchvision.datasets.CIFAR10(root='./data', train=True, download=True, transform=transform)\n",
        "trainloader = torch.utils.data.DataLoader(trainset, batch_size=4, shuffle=True, num_workers=2)\n",
        "\n",
        "# Download and load the testing dataset\n",
        "testset = torchvision.datasets.CIFAR10(root='./data', train=False, download=True, transform=transform)\n",
        "testloader = torch.utils.data.DataLoader(testset, batch_size=4, shuffle=False, num_workers=2)\n"
      ],
      "metadata": {
        "colab": {
          "base_uri": "https://localhost:8080/"
        },
        "id": "Jytgd2jUItgO",
        "outputId": "4af0f90e-e3d0-415d-f9b5-365819a5a803"
      },
      "execution_count": 2,
      "outputs": [
        {
          "output_type": "stream",
          "name": "stderr",
          "text": [
            "100%|██████████| 170M/170M [00:02<00:00, 62.3MB/s]\n"
          ]
        }
      ]
    },
    {
      "cell_type": "code",
      "source": [
        "class Net(nn.Module):\n",
        "    def __init__(self):\n",
        "        super(Net, self).__init__()\n",
        "\n",
        "        # First convolutional layer: 3 input channels (RGB), 6 output channels, 5x5 kernel\n",
        "        self.conv1 = nn.Conv2d(3, 6, 5)\n",
        "\n",
        "        # Max pooling layer with 2x2 kernel\n",
        "        self.pool = nn.MaxPool2d(2, 2)\n",
        "\n",
        "        # Second convolutional layer: 6 input channels, 16 output channels, 5x5 kernel\n",
        "        self.conv2 = nn.Conv2d(6, 16, 5)\n",
        "\n",
        "        # Fully connected layers\n",
        "        self.fc1 = nn.Linear(16 * 5 * 5, 120)  # Flattened image to 120 features\n",
        "        self.fc2 = nn.Linear(120, 84)          # From 120 to 84\n",
        "        self.fc3 = nn.Linear(84, 10)           # Output layer: 10 classes for CIFAR-10\n",
        "\n",
        "    def forward(self, x):\n",
        "        # Pass through first conv, apply ReLU, then pool\n",
        "        x = self.pool(F.relu(self.conv1(x)))\n",
        "\n",
        "        # Pass through second conv, apply ReLU, then pool\n",
        "        x = self.pool(F.relu(self.conv2(x)))\n",
        "\n",
        "        # Flatten for fully connected layers\n",
        "        x = x.view(-1, 16 * 5 * 5)\n",
        "\n",
        "        # Pass through fully connected layers with ReLU\n",
        "        x = F.relu(self.fc1(x))\n",
        "        x = F.relu(self.fc2(x))\n",
        "\n",
        "        # Final layer without activation (CrossEntropyLoss applies softmax internally)\n",
        "        x = self.fc3(x)\n",
        "\n",
        "        return x\n",
        "\n",
        "# Initialize the network\n",
        "net = Net()\n"
      ],
      "metadata": {
        "id": "JxaduvelIwRH"
      },
      "execution_count": 3,
      "outputs": []
    },
    {
      "cell_type": "code",
      "source": [
        "# Loss function and optimizer.\n",
        "# Cross-Entropy Loss is suited for classification.\n",
        "# SGD (Stochastic Gradient Descent) will help us update the weights.\n",
        "\n",
        "criterion = nn.CrossEntropyLoss()\n",
        "optimizer = optim.SGD(net.parameters(), lr=0.001, momentum=0.9)\n"
      ],
      "metadata": {
        "id": "1rAx1r6TIxDL"
      },
      "execution_count": 4,
      "outputs": []
    },
    {
      "cell_type": "code",
      "source": [
        "# We'll loop over the dataset twice (2 epochs).\n",
        "# In each epoch, we go through the training data in mini-batches and update weights.\n",
        "\n",
        "for epoch in range(2):  # number of times to loop over the entire dataset\n",
        "    running_loss = 0.0\n",
        "    for i, data in enumerate(trainloader, 0):  # enumerate gives us batch index i\n",
        "\n",
        "        inputs, labels = data  # Get inputs and their true labels\n",
        "\n",
        "        optimizer.zero_grad()  # Zero the gradients\n",
        "\n",
        "        outputs = net(inputs)          # Forward pass\n",
        "        loss = criterion(outputs, labels)  # Compute loss\n",
        "        loss.backward()               # Backpropagate\n",
        "        optimizer.step()             # Optimize weights\n",
        "\n",
        "        running_loss += loss.item()\n",
        "        if i % 2000 == 1999:  # Every 2000 batches, print progress\n",
        "            print(f'[{epoch + 1}, {i + 1:5d}] loss: {running_loss / 2000:.3f}')\n",
        "            running_loss = 0.0\n",
        "\n",
        "print('Finished Training')\n"
      ],
      "metadata": {
        "colab": {
          "base_uri": "https://localhost:8080/"
        },
        "id": "ye-flOahI0sV",
        "outputId": "1314d1ad-200c-4cb4-9bd1-cfc2e25c45e4"
      },
      "execution_count": 5,
      "outputs": [
        {
          "output_type": "stream",
          "name": "stdout",
          "text": [
            "[1,  2000] loss: 2.281\n",
            "[1,  4000] loss: 1.944\n",
            "[1,  6000] loss: 1.712\n",
            "[1,  8000] loss: 1.611\n",
            "[1, 10000] loss: 1.558\n",
            "[1, 12000] loss: 1.493\n",
            "[2,  2000] loss: 1.430\n",
            "[2,  4000] loss: 1.394\n",
            "[2,  6000] loss: 1.370\n",
            "[2,  8000] loss: 1.347\n",
            "[2, 10000] loss: 1.321\n",
            "[2, 12000] loss: 1.317\n",
            "Finished Training\n"
          ]
        }
      ]
    },
    {
      "cell_type": "code",
      "source": [
        "# This tells us how well the model performs on unseen data.\n",
        "\n",
        "correct = 0\n",
        "total = 0\n",
        "\n",
        "# Disable gradient calculation for testing (saves memory & computation)\n",
        "with torch.no_grad():\n",
        "    for data in testloader:\n",
        "        images, labels = data\n",
        "        outputs = net(images)                      # Get model predictions\n",
        "        _, predicted = torch.max(outputs.data, 1)  # Take class with highest probability\n",
        "        total += labels.size(0)                    # Total number of images\n",
        "        correct += (predicted == labels).sum().item()  # Correct predictions\n",
        "\n",
        "# Print final test accuracy\n",
        "print(f'Accuracy of the network on the 10000 test images: {100 * correct / total} %')\n"
      ],
      "metadata": {
        "colab": {
          "base_uri": "https://localhost:8080/"
        },
        "id": "o17wNuRJI2r_",
        "outputId": "31440967-6b2e-4c2b-86d9-e6d3c9f8d458"
      },
      "execution_count": 6,
      "outputs": [
        {
          "output_type": "stream",
          "name": "stdout",
          "text": [
            "Accuracy of the network on the 10000 test images: 53.57 %\n"
          ]
        }
      ]
    },
    {
      "cell_type": "code",
      "source": [
        "# We'll save just the model's parameters (state_dict), not the full architecture.\n",
        "# PyTorch encourages saving the model structure in code and weights separately using state_dict.\n",
        "\n",
        "\n",
        "PATH = './cifar_net.pth'\n",
        "torch.save(net.state_dict(), PATH)"
      ],
      "metadata": {
        "id": "yszpawxwI307"
      },
      "execution_count": 7,
      "outputs": []
    },
    {
      "cell_type": "code",
      "source": [
        "import numpy as np\n",
        "\n",
        "# When we want to load the model again, we instantiate the class and load the parameters.\n",
        "# This is useful for continuing training, evaluation, or deployment.\n",
        "\n",
        "\n",
        "net = Net()\n",
        "net.load_state_dict(torch.load(PATH))\n",
        "net.eval()\n",
        "\n",
        "\n",
        "# Load classes\n",
        "classes = ['plane', 'car', 'bird', 'cat', 'deer',\n",
        "           'dog', 'frog', 'horse', 'ship', 'truck']\n",
        "\n",
        "# Load test data\n",
        "transform = torchvision.transforms.Compose([\n",
        "    torchvision.transforms.ToTensor(),\n",
        "    torchvision.transforms.Normalize((0.5, 0.5, 0.5), (0.5, 0.5, 0.5))\n",
        "])\n",
        "testset = torchvision.datasets.CIFAR10(root='./data', train=False, download=True, transform=transform)\n",
        "testloader = torch.utils.data.DataLoader(testset, batch_size=4, shuffle=False)\n",
        "\n",
        "# Get a batch\n",
        "dataiter = iter(testloader)\n",
        "images, labels = next(dataiter)\n",
        "\n",
        "# Predict\n",
        "outputs = net(images)\n",
        "_, predicted = torch.max(outputs, 1)\n",
        "\n",
        "# Unnormalize images\n",
        "images = images / 2 + 0.5\n",
        "npimg = images.numpy()\n",
        "\n",
        "# Plot images\n",
        "fig, axes = plt.subplots(1, 4, figsize=(6, 2))\n",
        "for i in range(4):\n",
        "    ax = axes[i]\n",
        "    img = np.transpose(npimg[i], (1, 2, 0))\n",
        "    ax.imshow(img, interpolation='nearest')  # avoid blur\n",
        "    ax.set_title(f\"Pred: {classes[predicted[i]]}\\nTrue: {classes[labels[i]]}\")\n",
        "    ax.axis('off')\n"
      ],
      "metadata": {
        "colab": {
          "base_uri": "https://localhost:8080/",
          "height": 181
        },
        "id": "2dQkj5VZI7cm",
        "outputId": "347985fb-85f7-4dd0-db9f-6f430b9da82d"
      },
      "execution_count": 14,
      "outputs": [
        {
          "output_type": "display_data",
          "data": {
            "text/plain": [
              "<Figure size 600x200 with 4 Axes>"
            ],
            "image/png": "[encoded data removed]"
          },
          "metadata": {}
        }
      ]
    }
  ]
}